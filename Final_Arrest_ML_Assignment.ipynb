{
 "cells": [
  {
   "cell_type": "code",
   "execution_count": 1,
   "metadata": {},
   "outputs": [],
   "source": [
    "import seaborn as sns\n",
    "import matplotlib.pyplot as plt\n",
    "import warnings\n",
    "warnings.filterwarnings('ignore')\n",
    "import pandas as pd\n",
    "from pandas.plotting import autocorrelation_plot\n",
    "from pandas import DataFrame\n",
    "from statsmodels.tsa.arima_model import ARIMA\n",
    "from matplotlib import pyplot\n",
    "from pandas import datetime\n",
    "from matplotlib import pyplot\n",
    "from statsmodels.tsa.arima_model import ARIMA\n",
    "from sklearn.metrics import mean_squared_error\n",
    "from sklearn.metrics import mean_absolute_error\n",
    "from sklearn.preprocessing import LabelEncoder\n",
    "from sklearn.linear_model import LinearRegression"
   ]
  },
  {
   "cell_type": "code",
   "execution_count": 2,
   "metadata": {},
   "outputs": [
    {
     "data": {
      "text/html": [
       "<div>\n",
       "<style scoped>\n",
       "    .dataframe tbody tr th:only-of-type {\n",
       "        vertical-align: middle;\n",
       "    }\n",
       "\n",
       "    .dataframe tbody tr th {\n",
       "        vertical-align: top;\n",
       "    }\n",
       "\n",
       "    .dataframe thead th {\n",
       "        text-align: right;\n",
       "    }\n",
       "</style>\n",
       "<table border=\"1\" class=\"dataframe\">\n",
       "  <thead>\n",
       "    <tr style=\"text-align: right;\">\n",
       "      <th></th>\n",
       "      <th>Report ID</th>\n",
       "      <th>Arrest Date</th>\n",
       "      <th>Time</th>\n",
       "      <th>Area ID</th>\n",
       "      <th>Area Name</th>\n",
       "      <th>Reporting District</th>\n",
       "      <th>Age</th>\n",
       "      <th>Sex Code</th>\n",
       "      <th>Descent Code</th>\n",
       "      <th>Charge Group Code</th>\n",
       "      <th>Charge Group Description</th>\n",
       "      <th>Arrest Type Code</th>\n",
       "      <th>Charge</th>\n",
       "      <th>Charge Description</th>\n",
       "      <th>Address</th>\n",
       "      <th>Cross Street</th>\n",
       "      <th>Location</th>\n",
       "    </tr>\n",
       "  </thead>\n",
       "  <tbody>\n",
       "    <tr>\n",
       "      <th>0</th>\n",
       "      <td>4248313</td>\n",
       "      <td>02/24/2015</td>\n",
       "      <td>1310.0</td>\n",
       "      <td>20.0</td>\n",
       "      <td>Olympic</td>\n",
       "      <td>2022.0</td>\n",
       "      <td>37.0</td>\n",
       "      <td>M</td>\n",
       "      <td>H</td>\n",
       "      <td>5.0</td>\n",
       "      <td>Burglary</td>\n",
       "      <td>F</td>\n",
       "      <td>459PC</td>\n",
       "      <td>BURGLARY</td>\n",
       "      <td>5TH</td>\n",
       "      <td>WILTON</td>\n",
       "      <td>(34.0653, -118.314)</td>\n",
       "    </tr>\n",
       "    <tr>\n",
       "      <th>1</th>\n",
       "      <td>191811472</td>\n",
       "      <td>05/03/2019</td>\n",
       "      <td>1700.0</td>\n",
       "      <td>18.0</td>\n",
       "      <td>Southeast</td>\n",
       "      <td>1802.0</td>\n",
       "      <td>23.0</td>\n",
       "      <td>F</td>\n",
       "      <td>B</td>\n",
       "      <td>NaN</td>\n",
       "      <td>NaN</td>\n",
       "      <td>M</td>\n",
       "      <td>653.22 PC</td>\n",
       "      <td>NaN</td>\n",
       "      <td>91ST</td>\n",
       "      <td>FIGUEROA</td>\n",
       "      <td>(33.9543, -118.2827)</td>\n",
       "    </tr>\n",
       "    <tr>\n",
       "      <th>2</th>\n",
       "      <td>4254777</td>\n",
       "      <td>02/26/2015</td>\n",
       "      <td>2010.0</td>\n",
       "      <td>19.0</td>\n",
       "      <td>Mission</td>\n",
       "      <td>1985.0</td>\n",
       "      <td>22.0</td>\n",
       "      <td>M</td>\n",
       "      <td>H</td>\n",
       "      <td>6.0</td>\n",
       "      <td>Larceny</td>\n",
       "      <td>M</td>\n",
       "      <td>459.5PC</td>\n",
       "      <td>SHOPLIFTING</td>\n",
       "      <td>8300    VAN NUYS                     BL</td>\n",
       "      <td>NaN</td>\n",
       "      <td>(34.2216, -118.4488)</td>\n",
       "    </tr>\n",
       "    <tr>\n",
       "      <th>3</th>\n",
       "      <td>5614161</td>\n",
       "      <td>04/29/2019</td>\n",
       "      <td>1040.0</td>\n",
       "      <td>8.0</td>\n",
       "      <td>West LA</td>\n",
       "      <td>842.0</td>\n",
       "      <td>41.0</td>\n",
       "      <td>M</td>\n",
       "      <td>H</td>\n",
       "      <td>3.0</td>\n",
       "      <td>Robbery</td>\n",
       "      <td>F</td>\n",
       "      <td>211PC</td>\n",
       "      <td>ROBBERY</td>\n",
       "      <td>11600    WILSHIRE                     BL</td>\n",
       "      <td>NaN</td>\n",
       "      <td>(34.0508, -118.4592)</td>\n",
       "    </tr>\n",
       "    <tr>\n",
       "      <th>4</th>\n",
       "      <td>5615197</td>\n",
       "      <td>04/30/2019</td>\n",
       "      <td>615.0</td>\n",
       "      <td>6.0</td>\n",
       "      <td>Hollywood</td>\n",
       "      <td>663.0</td>\n",
       "      <td>27.0</td>\n",
       "      <td>M</td>\n",
       "      <td>O</td>\n",
       "      <td>5.0</td>\n",
       "      <td>Burglary</td>\n",
       "      <td>F</td>\n",
       "      <td>459PC</td>\n",
       "      <td>BURGLARY</td>\n",
       "      <td>LA BREA</td>\n",
       "      <td>LEXINGTON</td>\n",
       "      <td>(34.0907, -118.3384)</td>\n",
       "    </tr>\n",
       "  </tbody>\n",
       "</table>\n",
       "</div>"
      ],
      "text/plain": [
       "   Report ID Arrest Date    Time  Area ID  Area Name  Reporting District  \\\n",
       "0    4248313  02/24/2015  1310.0     20.0    Olympic              2022.0   \n",
       "1  191811472  05/03/2019  1700.0     18.0  Southeast              1802.0   \n",
       "2    4254777  02/26/2015  2010.0     19.0    Mission              1985.0   \n",
       "3    5614161  04/29/2019  1040.0      8.0    West LA               842.0   \n",
       "4    5615197  04/30/2019   615.0      6.0  Hollywood               663.0   \n",
       "\n",
       "    Age Sex Code Descent Code  Charge Group Code Charge Group Description  \\\n",
       "0  37.0        M            H                5.0                 Burglary   \n",
       "1  23.0        F            B                NaN                      NaN   \n",
       "2  22.0        M            H                6.0                  Larceny   \n",
       "3  41.0        M            H                3.0                  Robbery   \n",
       "4  27.0        M            O                5.0                 Burglary   \n",
       "\n",
       "  Arrest Type Code     Charge Charge Description  \\\n",
       "0                F      459PC           BURGLARY   \n",
       "1                M  653.22 PC                NaN   \n",
       "2                M    459.5PC        SHOPLIFTING   \n",
       "3                F      211PC            ROBBERY   \n",
       "4                F      459PC           BURGLARY   \n",
       "\n",
       "                                    Address Cross Street              Location  \n",
       "0                                       5TH       WILTON   (34.0653, -118.314)  \n",
       "1                                      91ST     FIGUEROA  (33.9543, -118.2827)  \n",
       "2   8300    VAN NUYS                     BL          NaN  (34.2216, -118.4488)  \n",
       "3  11600    WILSHIRE                     BL          NaN  (34.0508, -118.4592)  \n",
       "4                                   LA BREA    LEXINGTON  (34.0907, -118.3384)  "
      ]
     },
     "execution_count": 2,
     "metadata": {},
     "output_type": "execute_result"
    }
   ],
   "source": [
    "data = pd.read_csv('Arrest_Data.csv')\n",
    "data.head(5)"
   ]
  },
  {
   "cell_type": "code",
   "execution_count": 3,
   "metadata": {},
   "outputs": [
    {
     "name": "stdout",
     "output_type": "stream",
     "text": [
      "<class 'pandas.core.frame.DataFrame'>\n",
      "RangeIndex: 1227521 entries, 0 to 1227520\n",
      "Data columns (total 17 columns):\n",
      " #   Column                    Non-Null Count    Dtype  \n",
      "---  ------                    --------------    -----  \n",
      " 0   Report ID                 1227521 non-null  object \n",
      " 1   Arrest Date               1227517 non-null  object \n",
      " 2   Time                      1227322 non-null  float64\n",
      " 3   Area ID                   1227517 non-null  float64\n",
      " 4   Area Name                 1227517 non-null  object \n",
      " 5   Reporting District        1227517 non-null  float64\n",
      " 6   Age                       1227517 non-null  float64\n",
      " 7   Sex Code                  1227517 non-null  object \n",
      " 8   Descent Code              1227517 non-null  object \n",
      " 9   Charge Group Code         1139951 non-null  float64\n",
      " 10  Charge Group Description  1139515 non-null  object \n",
      " 11  Arrest Type Code          1227516 non-null  object \n",
      " 12  Charge                    1227516 non-null  object \n",
      " 13  Charge Description        1139987 non-null  object \n",
      " 14  Address                   1227516 non-null  object \n",
      " 15  Cross Street              707334 non-null   object \n",
      " 16  Location                  1227516 non-null  object \n",
      "dtypes: float64(5), object(12)\n",
      "memory usage: 159.2+ MB\n"
     ]
    }
   ],
   "source": [
    "data.info()"
   ]
  },
  {
   "cell_type": "markdown",
   "metadata": {},
   "source": [
    "### Data Cleaning"
   ]
  },
  {
   "cell_type": "code",
   "execution_count": 4,
   "metadata": {},
   "outputs": [
    {
     "data": {
      "text/html": [
       "<div>\n",
       "<style scoped>\n",
       "    .dataframe tbody tr th:only-of-type {\n",
       "        vertical-align: middle;\n",
       "    }\n",
       "\n",
       "    .dataframe tbody tr th {\n",
       "        vertical-align: top;\n",
       "    }\n",
       "\n",
       "    .dataframe thead th {\n",
       "        text-align: right;\n",
       "    }\n",
       "</style>\n",
       "<table border=\"1\" class=\"dataframe\">\n",
       "  <thead>\n",
       "    <tr style=\"text-align: right;\">\n",
       "      <th></th>\n",
       "      <th>Report ID</th>\n",
       "      <th>Arrest Date</th>\n",
       "      <th>Time</th>\n",
       "      <th>Area ID</th>\n",
       "      <th>Area Name</th>\n",
       "      <th>Reporting District</th>\n",
       "      <th>Age</th>\n",
       "      <th>Sex Code</th>\n",
       "      <th>Descent Code</th>\n",
       "      <th>Charge Group Description</th>\n",
       "      <th>Arrest Type Code</th>\n",
       "      <th>Charge</th>\n",
       "      <th>Address</th>\n",
       "      <th>Location</th>\n",
       "    </tr>\n",
       "  </thead>\n",
       "  <tbody>\n",
       "    <tr>\n",
       "      <th>0</th>\n",
       "      <td>4248313</td>\n",
       "      <td>02/24/2015</td>\n",
       "      <td>1310.0</td>\n",
       "      <td>20.0</td>\n",
       "      <td>Olympic</td>\n",
       "      <td>2022.0</td>\n",
       "      <td>37.0</td>\n",
       "      <td>M</td>\n",
       "      <td>H</td>\n",
       "      <td>Burglary</td>\n",
       "      <td>F</td>\n",
       "      <td>459PC</td>\n",
       "      <td>5TH</td>\n",
       "      <td>(34.0653, -118.314)</td>\n",
       "    </tr>\n",
       "    <tr>\n",
       "      <th>1</th>\n",
       "      <td>191811472</td>\n",
       "      <td>05/03/2019</td>\n",
       "      <td>1700.0</td>\n",
       "      <td>18.0</td>\n",
       "      <td>Southeast</td>\n",
       "      <td>1802.0</td>\n",
       "      <td>23.0</td>\n",
       "      <td>F</td>\n",
       "      <td>B</td>\n",
       "      <td>NaN</td>\n",
       "      <td>M</td>\n",
       "      <td>653.22 PC</td>\n",
       "      <td>91ST</td>\n",
       "      <td>(33.9543, -118.2827)</td>\n",
       "    </tr>\n",
       "    <tr>\n",
       "      <th>2</th>\n",
       "      <td>4254777</td>\n",
       "      <td>02/26/2015</td>\n",
       "      <td>2010.0</td>\n",
       "      <td>19.0</td>\n",
       "      <td>Mission</td>\n",
       "      <td>1985.0</td>\n",
       "      <td>22.0</td>\n",
       "      <td>M</td>\n",
       "      <td>H</td>\n",
       "      <td>Larceny</td>\n",
       "      <td>M</td>\n",
       "      <td>459.5PC</td>\n",
       "      <td>8300    VAN NUYS                     BL</td>\n",
       "      <td>(34.2216, -118.4488)</td>\n",
       "    </tr>\n",
       "    <tr>\n",
       "      <th>3</th>\n",
       "      <td>5614161</td>\n",
       "      <td>04/29/2019</td>\n",
       "      <td>1040.0</td>\n",
       "      <td>8.0</td>\n",
       "      <td>West LA</td>\n",
       "      <td>842.0</td>\n",
       "      <td>41.0</td>\n",
       "      <td>M</td>\n",
       "      <td>H</td>\n",
       "      <td>Robbery</td>\n",
       "      <td>F</td>\n",
       "      <td>211PC</td>\n",
       "      <td>11600    WILSHIRE                     BL</td>\n",
       "      <td>(34.0508, -118.4592)</td>\n",
       "    </tr>\n",
       "    <tr>\n",
       "      <th>4</th>\n",
       "      <td>5615197</td>\n",
       "      <td>04/30/2019</td>\n",
       "      <td>615.0</td>\n",
       "      <td>6.0</td>\n",
       "      <td>Hollywood</td>\n",
       "      <td>663.0</td>\n",
       "      <td>27.0</td>\n",
       "      <td>M</td>\n",
       "      <td>O</td>\n",
       "      <td>Burglary</td>\n",
       "      <td>F</td>\n",
       "      <td>459PC</td>\n",
       "      <td>LA BREA</td>\n",
       "      <td>(34.0907, -118.3384)</td>\n",
       "    </tr>\n",
       "    <tr>\n",
       "      <th>5</th>\n",
       "      <td>5615701</td>\n",
       "      <td>04/30/2019</td>\n",
       "      <td>1100.0</td>\n",
       "      <td>9.0</td>\n",
       "      <td>Van Nuys</td>\n",
       "      <td>901.0</td>\n",
       "      <td>2.0</td>\n",
       "      <td>F</td>\n",
       "      <td>H</td>\n",
       "      <td>NaN</td>\n",
       "      <td>D</td>\n",
       "      <td>300(B)WIC</td>\n",
       "      <td>RAYMER</td>\n",
       "      <td>(34.2149, -118.4674)</td>\n",
       "    </tr>\n",
       "    <tr>\n",
       "      <th>6</th>\n",
       "      <td>4256466</td>\n",
       "      <td>02/28/2015</td>\n",
       "      <td>1430.0</td>\n",
       "      <td>18.0</td>\n",
       "      <td>Southeast</td>\n",
       "      <td>1824.0</td>\n",
       "      <td>22.0</td>\n",
       "      <td>M</td>\n",
       "      <td>B</td>\n",
       "      <td>Burglary</td>\n",
       "      <td>F</td>\n",
       "      <td>459PC</td>\n",
       "      <td>103RD</td>\n",
       "      <td>(33.947, -118.2594)</td>\n",
       "    </tr>\n",
       "    <tr>\n",
       "      <th>7</th>\n",
       "      <td>4256564</td>\n",
       "      <td>02/28/2015</td>\n",
       "      <td>1715.0</td>\n",
       "      <td>10.0</td>\n",
       "      <td>West Valley</td>\n",
       "      <td>1039.0</td>\n",
       "      <td>16.0</td>\n",
       "      <td>M</td>\n",
       "      <td>H</td>\n",
       "      <td>Robbery</td>\n",
       "      <td>F</td>\n",
       "      <td>211PC</td>\n",
       "      <td>VANOWEN</td>\n",
       "      <td>(34.1939, -118.4836)</td>\n",
       "    </tr>\n",
       "    <tr>\n",
       "      <th>8</th>\n",
       "      <td>5616892</td>\n",
       "      <td>05/01/2019</td>\n",
       "      <td>1710.0</td>\n",
       "      <td>12.0</td>\n",
       "      <td>77th Street</td>\n",
       "      <td>1245.0</td>\n",
       "      <td>28.0</td>\n",
       "      <td>F</td>\n",
       "      <td>B</td>\n",
       "      <td>Robbery</td>\n",
       "      <td>F</td>\n",
       "      <td>211PC</td>\n",
       "      <td>VERMONT</td>\n",
       "      <td>(33.9746, -118.2918)</td>\n",
       "    </tr>\n",
       "    <tr>\n",
       "      <th>9</th>\n",
       "      <td>5617003</td>\n",
       "      <td>05/01/2019</td>\n",
       "      <td>1010.0</td>\n",
       "      <td>16.0</td>\n",
       "      <td>Foothill</td>\n",
       "      <td>1601.0</td>\n",
       "      <td>39.0</td>\n",
       "      <td>M</td>\n",
       "      <td>H</td>\n",
       "      <td>NaN</td>\n",
       "      <td>O</td>\n",
       "      <td>21 841A1US</td>\n",
       "      <td>FOOTHILL                     BL</td>\n",
       "      <td>(34.2868, -118.4081)</td>\n",
       "    </tr>\n",
       "  </tbody>\n",
       "</table>\n",
       "</div>"
      ],
      "text/plain": [
       "   Report ID Arrest Date    Time  Area ID    Area Name  Reporting District  \\\n",
       "0    4248313  02/24/2015  1310.0     20.0      Olympic              2022.0   \n",
       "1  191811472  05/03/2019  1700.0     18.0    Southeast              1802.0   \n",
       "2    4254777  02/26/2015  2010.0     19.0      Mission              1985.0   \n",
       "3    5614161  04/29/2019  1040.0      8.0      West LA               842.0   \n",
       "4    5615197  04/30/2019   615.0      6.0    Hollywood               663.0   \n",
       "5    5615701  04/30/2019  1100.0      9.0     Van Nuys               901.0   \n",
       "6    4256466  02/28/2015  1430.0     18.0    Southeast              1824.0   \n",
       "7    4256564  02/28/2015  1715.0     10.0  West Valley              1039.0   \n",
       "8    5616892  05/01/2019  1710.0     12.0  77th Street              1245.0   \n",
       "9    5617003  05/01/2019  1010.0     16.0     Foothill              1601.0   \n",
       "\n",
       "    Age Sex Code Descent Code Charge Group Description Arrest Type Code  \\\n",
       "0  37.0        M            H                 Burglary                F   \n",
       "1  23.0        F            B                      NaN                M   \n",
       "2  22.0        M            H                  Larceny                M   \n",
       "3  41.0        M            H                  Robbery                F   \n",
       "4  27.0        M            O                 Burglary                F   \n",
       "5   2.0        F            H                      NaN                D   \n",
       "6  22.0        M            B                 Burglary                F   \n",
       "7  16.0        M            H                  Robbery                F   \n",
       "8  28.0        F            B                  Robbery                F   \n",
       "9  39.0        M            H                      NaN                O   \n",
       "\n",
       "       Charge                                   Address              Location  \n",
       "0       459PC                                       5TH   (34.0653, -118.314)  \n",
       "1   653.22 PC                                      91ST  (33.9543, -118.2827)  \n",
       "2     459.5PC   8300    VAN NUYS                     BL  (34.2216, -118.4488)  \n",
       "3       211PC  11600    WILSHIRE                     BL  (34.0508, -118.4592)  \n",
       "4       459PC                                   LA BREA  (34.0907, -118.3384)  \n",
       "5   300(B)WIC                                    RAYMER  (34.2149, -118.4674)  \n",
       "6       459PC                                     103RD   (33.947, -118.2594)  \n",
       "7       211PC                                   VANOWEN  (34.1939, -118.4836)  \n",
       "8       211PC                                   VERMONT  (33.9746, -118.2918)  \n",
       "9  21 841A1US           FOOTHILL                     BL  (34.2868, -118.4081)  "
      ]
     },
     "execution_count": 4,
     "metadata": {},
     "output_type": "execute_result"
    }
   ],
   "source": [
    "to_drop =['Charge Group Code','Charge Description','Cross Street']\n",
    "data.drop(columns=to_drop,axis=1,inplace=True)\n",
    "data.head(10)"
   ]
  },
  {
   "cell_type": "code",
   "execution_count": 5,
   "metadata": {},
   "outputs": [
    {
     "data": {
      "text/plain": [
       "0"
      ]
     },
     "execution_count": 5,
     "metadata": {},
     "output_type": "execute_result"
    }
   ],
   "source": [
    "data['Arrest Date']= data['Arrest Date'].fillna(data['Arrest Date'].min)\n",
    "data['Area Name']= data['Area Name'].fillna(data['Area Name'].min)\n",
    "data['Reporting District']= data['Reporting District'].fillna(data['Reporting District'].min)\n",
    "data['Charge Group Description']= data['Charge Group Description'].dropna()\n",
    "data['Time']= data['Time'].interpolate()\n",
    "data = data.dropna()\n",
    "data['Charge Group Description'].isnull().sum()"
   ]
  },
  {
   "cell_type": "code",
   "execution_count": 6,
   "metadata": {},
   "outputs": [
    {
     "data": {
      "text/plain": [
       "Report ID                   0\n",
       "Arrest Date                 0\n",
       "Time                        0\n",
       "Area ID                     0\n",
       "Area Name                   0\n",
       "Reporting District          0\n",
       "Age                         0\n",
       "Sex Code                    0\n",
       "Descent Code                0\n",
       "Charge Group Description    0\n",
       "Arrest Type Code            0\n",
       "Charge                      0\n",
       "Address                     0\n",
       "Location                    0\n",
       "dtype: int64"
      ]
     },
     "execution_count": 6,
     "metadata": {},
     "output_type": "execute_result"
    }
   ],
   "source": [
    "data.isnull().sum()"
   ]
  },
  {
   "cell_type": "code",
   "execution_count": 7,
   "metadata": {},
   "outputs": [
    {
     "name": "stdout",
     "output_type": "stream",
     "text": [
      "<class 'pandas.core.frame.DataFrame'>\n",
      "Int64Index: 1139514 entries, 0 to 1227515\n",
      "Data columns (total 14 columns):\n",
      " #   Column                    Non-Null Count    Dtype         \n",
      "---  ------                    --------------    -----         \n",
      " 0   Report ID                 1139514 non-null  object        \n",
      " 1   Arrest Date               1139514 non-null  datetime64[ns]\n",
      " 2   Time                      1139514 non-null  float64       \n",
      " 3   Area ID                   1139514 non-null  float64       \n",
      " 4   Area Name                 1139514 non-null  object        \n",
      " 5   Reporting District        1139514 non-null  object        \n",
      " 6   Age                       1139514 non-null  float64       \n",
      " 7   Sex Code                  1139514 non-null  object        \n",
      " 8   Descent Code              1139514 non-null  object        \n",
      " 9   Charge Group Description  1139514 non-null  object        \n",
      " 10  Arrest Type Code          1139514 non-null  object        \n",
      " 11  Charge                    1139514 non-null  object        \n",
      " 12  Address                   1139514 non-null  object        \n",
      " 13  Location                  1139514 non-null  object        \n",
      "dtypes: datetime64[ns](1), float64(3), object(10)\n",
      "memory usage: 130.4+ MB\n"
     ]
    }
   ],
   "source": [
    "data['Arrest Date'] = pd.to_datetime(data['Arrest Date'])\n",
    "data.info()"
   ]
  },
  {
   "cell_type": "code",
   "execution_count": 8,
   "metadata": {},
   "outputs": [],
   "source": [
    "data['year'] = data['Arrest Date'].dt.year\n",
    "data['month'] = data['Arrest Date'].dt.month"
   ]
  },
  {
   "cell_type": "code",
   "execution_count": 9,
   "metadata": {},
   "outputs": [],
   "source": [
    "#creation of datasets\n",
    "data_2010to2018=data[(data['year']>=2010) & (data['year']<=2018) ]\n",
    "new_datasets= data[data['year']==2018]"
   ]
  },
  {
   "cell_type": "markdown",
   "metadata": {},
   "source": [
    "#### Q1. How many bookings of arrestees were made in 2018? "
   ]
  },
  {
   "cell_type": "code",
   "execution_count": 10,
   "metadata": {},
   "outputs": [
    {
     "data": {
      "text/plain": [
       "30332"
      ]
     },
     "execution_count": 10,
     "metadata": {},
     "output_type": "execute_result"
    }
   ],
   "source": [
    "new_datasets['Report ID'].count()"
   ]
  },
  {
   "cell_type": "markdown",
   "metadata": {},
   "source": [
    "#### Q2.How many bookings of arrestees were made in the area with the most arrests in 2018?"
   ]
  },
  {
   "cell_type": "code",
   "execution_count": 11,
   "metadata": {},
   "outputs": [
    {
     "data": {
      "text/html": [
       "<div>\n",
       "<style scoped>\n",
       "    .dataframe tbody tr th:only-of-type {\n",
       "        vertical-align: middle;\n",
       "    }\n",
       "\n",
       "    .dataframe tbody tr th {\n",
       "        vertical-align: top;\n",
       "    }\n",
       "\n",
       "    .dataframe thead th {\n",
       "        text-align: right;\n",
       "    }\n",
       "</style>\n",
       "<table border=\"1\" class=\"dataframe\">\n",
       "  <thead>\n",
       "    <tr style=\"text-align: right;\">\n",
       "      <th></th>\n",
       "      <th>Area Name</th>\n",
       "      <th>Report ID</th>\n",
       "    </tr>\n",
       "  </thead>\n",
       "  <tbody>\n",
       "    <tr>\n",
       "      <th>1</th>\n",
       "      <td>Central</td>\n",
       "      <td>5011</td>\n",
       "    </tr>\n",
       "    <tr>\n",
       "      <th>6</th>\n",
       "      <td>Hollywood</td>\n",
       "      <td>2798</td>\n",
       "    </tr>\n",
       "    <tr>\n",
       "      <th>13</th>\n",
       "      <td>Rampart</td>\n",
       "      <td>1935</td>\n",
       "    </tr>\n",
       "    <tr>\n",
       "      <th>12</th>\n",
       "      <td>Pacific</td>\n",
       "      <td>1700</td>\n",
       "    </tr>\n",
       "    <tr>\n",
       "      <th>17</th>\n",
       "      <td>Van Nuys</td>\n",
       "      <td>1532</td>\n",
       "    </tr>\n",
       "    <tr>\n",
       "      <th>9</th>\n",
       "      <td>Newton</td>\n",
       "      <td>1490</td>\n",
       "    </tr>\n",
       "    <tr>\n",
       "      <th>15</th>\n",
       "      <td>Southwest</td>\n",
       "      <td>1424</td>\n",
       "    </tr>\n",
       "    <tr>\n",
       "      <th>4</th>\n",
       "      <td>Harbor</td>\n",
       "      <td>1355</td>\n",
       "    </tr>\n",
       "    <tr>\n",
       "      <th>0</th>\n",
       "      <td>77th Street</td>\n",
       "      <td>1303</td>\n",
       "    </tr>\n",
       "    <tr>\n",
       "      <th>10</th>\n",
       "      <td>Northeast</td>\n",
       "      <td>1299</td>\n",
       "    </tr>\n",
       "  </tbody>\n",
       "</table>\n",
       "</div>"
      ],
      "text/plain": [
       "      Area Name  Report ID\n",
       "1       Central       5011\n",
       "6     Hollywood       2798\n",
       "13      Rampart       1935\n",
       "12      Pacific       1700\n",
       "17     Van Nuys       1532\n",
       "9        Newton       1490\n",
       "15    Southwest       1424\n",
       "4        Harbor       1355\n",
       "0   77th Street       1303\n",
       "10    Northeast       1299"
      ]
     },
     "execution_count": 11,
     "metadata": {},
     "output_type": "execute_result"
    }
   ],
   "source": [
    "new_datasets.groupby('Area Name')['Report ID'].count().reset_index().sort_values('Report ID',ascending=False).head(10)"
   ]
  },
  {
   "cell_type": "markdown",
   "metadata": {},
   "source": [
    "#### Q3.There are differences between the average age of an arrestee for the various charge groups. Find the average age of arrestees per each charge group."
   ]
  },
  {
   "cell_type": "code",
   "execution_count": 12,
   "metadata": {},
   "outputs": [
    {
     "data": {
      "text/html": [
       "<div>\n",
       "<style scoped>\n",
       "    .dataframe tbody tr th:only-of-type {\n",
       "        vertical-align: middle;\n",
       "    }\n",
       "\n",
       "    .dataframe tbody tr th {\n",
       "        vertical-align: top;\n",
       "    }\n",
       "\n",
       "    .dataframe thead th {\n",
       "        text-align: right;\n",
       "    }\n",
       "</style>\n",
       "<table border=\"1\" class=\"dataframe\">\n",
       "  <thead>\n",
       "    <tr style=\"text-align: right;\">\n",
       "      <th></th>\n",
       "      <th>Charge Group Description</th>\n",
       "      <th>Age</th>\n",
       "    </tr>\n",
       "  </thead>\n",
       "  <tbody>\n",
       "    <tr>\n",
       "      <th>6</th>\n",
       "      <td>Drunkeness</td>\n",
       "      <td>44.219972</td>\n",
       "    </tr>\n",
       "    <tr>\n",
       "      <th>13</th>\n",
       "      <td>Liquor Laws</td>\n",
       "      <td>42.540955</td>\n",
       "    </tr>\n",
       "    <tr>\n",
       "      <th>3</th>\n",
       "      <td>Disorderly Conduct</td>\n",
       "      <td>41.924290</td>\n",
       "    </tr>\n",
       "    <tr>\n",
       "      <th>10</th>\n",
       "      <td>Gambling</td>\n",
       "      <td>40.557047</td>\n",
       "    </tr>\n",
       "    <tr>\n",
       "      <th>4</th>\n",
       "      <td>Disturbing the Peace</td>\n",
       "      <td>39.727273</td>\n",
       "    </tr>\n",
       "    <tr>\n",
       "      <th>0</th>\n",
       "      <td>Against Family/Child</td>\n",
       "      <td>36.950355</td>\n",
       "    </tr>\n",
       "    <tr>\n",
       "      <th>24</th>\n",
       "      <td>Sex (except rape/prst)</td>\n",
       "      <td>36.555838</td>\n",
       "    </tr>\n",
       "    <tr>\n",
       "      <th>14</th>\n",
       "      <td>Miscellaneous Other Violations</td>\n",
       "      <td>36.252076</td>\n",
       "    </tr>\n",
       "    <tr>\n",
       "      <th>21</th>\n",
       "      <td>Rape</td>\n",
       "      <td>36.203704</td>\n",
       "    </tr>\n",
       "    <tr>\n",
       "      <th>16</th>\n",
       "      <td>Narcotic Drug Laws</td>\n",
       "      <td>36.097954</td>\n",
       "    </tr>\n",
       "    <tr>\n",
       "      <th>9</th>\n",
       "      <td>Fraud/Embezzlement</td>\n",
       "      <td>35.689076</td>\n",
       "    </tr>\n",
       "    <tr>\n",
       "      <th>8</th>\n",
       "      <td>Forgery/Counterfeit</td>\n",
       "      <td>35.066667</td>\n",
       "    </tr>\n",
       "    <tr>\n",
       "      <th>7</th>\n",
       "      <td>Federal Offenses</td>\n",
       "      <td>34.600000</td>\n",
       "    </tr>\n",
       "    <tr>\n",
       "      <th>5</th>\n",
       "      <td>Driving Under Influence</td>\n",
       "      <td>34.428291</td>\n",
       "    </tr>\n",
       "    <tr>\n",
       "      <th>1</th>\n",
       "      <td>Aggravated Assault</td>\n",
       "      <td>33.907359</td>\n",
       "    </tr>\n",
       "    <tr>\n",
       "      <th>22</th>\n",
       "      <td>Receive Stolen Property</td>\n",
       "      <td>33.687500</td>\n",
       "    </tr>\n",
       "    <tr>\n",
       "      <th>18</th>\n",
       "      <td>Other Assaults</td>\n",
       "      <td>33.451139</td>\n",
       "    </tr>\n",
       "    <tr>\n",
       "      <th>15</th>\n",
       "      <td>Moving Traffic Violations</td>\n",
       "      <td>33.085622</td>\n",
       "    </tr>\n",
       "    <tr>\n",
       "      <th>12</th>\n",
       "      <td>Larceny</td>\n",
       "      <td>32.725796</td>\n",
       "    </tr>\n",
       "    <tr>\n",
       "      <th>20</th>\n",
       "      <td>Prostitution/Allied</td>\n",
       "      <td>31.620470</td>\n",
       "    </tr>\n",
       "    <tr>\n",
       "      <th>11</th>\n",
       "      <td>Homicide</td>\n",
       "      <td>30.896552</td>\n",
       "    </tr>\n",
       "    <tr>\n",
       "      <th>2</th>\n",
       "      <td>Burglary</td>\n",
       "      <td>30.366755</td>\n",
       "    </tr>\n",
       "    <tr>\n",
       "      <th>25</th>\n",
       "      <td>Vehicle Theft</td>\n",
       "      <td>30.095624</td>\n",
       "    </tr>\n",
       "    <tr>\n",
       "      <th>26</th>\n",
       "      <td>Weapon (carry/poss)</td>\n",
       "      <td>29.477178</td>\n",
       "    </tr>\n",
       "    <tr>\n",
       "      <th>23</th>\n",
       "      <td>Robbery</td>\n",
       "      <td>27.538739</td>\n",
       "    </tr>\n",
       "  </tbody>\n",
       "</table>\n",
       "</div>"
      ],
      "text/plain": [
       "          Charge Group Description        Age\n",
       "6                       Drunkeness  44.219972\n",
       "13                     Liquor Laws  42.540955\n",
       "3               Disorderly Conduct  41.924290\n",
       "10                        Gambling  40.557047\n",
       "4             Disturbing the Peace  39.727273\n",
       "0             Against Family/Child  36.950355\n",
       "24          Sex (except rape/prst)  36.555838\n",
       "14  Miscellaneous Other Violations  36.252076\n",
       "21                            Rape  36.203704\n",
       "16              Narcotic Drug Laws  36.097954\n",
       "9               Fraud/Embezzlement  35.689076\n",
       "8              Forgery/Counterfeit  35.066667\n",
       "7                 Federal Offenses  34.600000\n",
       "5          Driving Under Influence  34.428291\n",
       "1               Aggravated Assault  33.907359\n",
       "22         Receive Stolen Property  33.687500\n",
       "18                  Other Assaults  33.451139\n",
       "15       Moving Traffic Violations  33.085622\n",
       "12                         Larceny  32.725796\n",
       "20             Prostitution/Allied  31.620470\n",
       "11                        Homicide  30.896552\n",
       "2                         Burglary  30.366755\n",
       "25                   Vehicle Theft  30.095624\n",
       "26             Weapon (carry/poss)  29.477178\n",
       "23                         Robbery  27.538739"
      ]
     },
     "execution_count": 12,
     "metadata": {},
     "output_type": "execute_result"
    }
   ],
   "source": [
    "new_datasets.groupby('Charge Group Description')['Age'].mean().reset_index().sort_values('Age',ascending=False).drop(index=[19,17])"
   ]
  },
  {
   "cell_type": "markdown",
   "metadata": {},
   "source": [
    "#### Q4 What is the 95% quantile of the age of the arrestee in 2018? Only consider the following charge groups for your analysis"
   ]
  },
  {
   "cell_type": "code",
   "execution_count": 13,
   "metadata": {},
   "outputs": [
    {
     "data": {
      "text/plain": [
       "52.0"
      ]
     },
     "execution_count": 13,
     "metadata": {},
     "output_type": "execute_result"
    }
   ],
   "source": [
    "columns= ['Vehicle Theft' ,\n",
    "'Robbery',\n",
    "'Burglary',\n",
    "'Receive Stolen Property']\n",
    "my_quantile = new_datasets[new_datasets['Charge Group Description'].isin(columns)]['Age'].quantile(0.95)\n",
    "my_quantile"
   ]
  },
  {
   "cell_type": "code",
   "execution_count": 14,
   "metadata": {},
   "outputs": [
    {
     "data": {
      "text/plain": [
       "<matplotlib.axes._subplots.AxesSubplot at 0x28385ccab08>"
      ]
     },
     "execution_count": 14,
     "metadata": {},
     "output_type": "execute_result"
    },
    {
     "data": {
      "image/png": "[encoded data removed]",
      "text/plain": [
       "<Figure size 432x288 with 1 Axes>"
      ]
     },
     "metadata": {},
     "output_type": "display_data"
    }
   ],
   "source": [
    "new_datasets['Area Name'].value_counts().head().plot(kind='pie')"
   ]
  },
  {
   "cell_type": "code",
   "execution_count": 15,
   "metadata": {},
   "outputs": [
    {
     "data": {
      "text/plain": [
       "<matplotlib.axes._subplots.AxesSubplot at 0x283935a0188>"
      ]
     },
     "execution_count": 15,
     "metadata": {},
     "output_type": "execute_result"
    },
    {
     "data": {
      "image/png": "[encoded data removed]",
      "text/plain": [
       "<Figure size 432x288 with 1 Axes>"
      ]
     },
     "metadata": {
      "needs_background": "light"
     },
     "output_type": "display_data"
    }
   ],
   "source": [
    "new_datasets['Charge'].value_counts().head().plot(kind='bar')"
   ]
  },
  {
   "cell_type": "markdown",
   "metadata": {},
   "source": [
    "#### Q5. Felony arrest incidents have been dropping over the years. Using a trend line (linear estimation) for the data from 2010 and 2018 (inclusive), what is the projected number of felony arrests in 2019? Round to the nearest integer. Note, the data set includes arrests for misdemeanor, felonies, etc."
   ]
  },
  {
   "cell_type": "markdown",
   "metadata": {},
   "source": [
    "##### Disclaimer we select felony crime from our datasets but some crime can be classifed for both felony and misdemeanor"
   ]
  },
  {
   "cell_type": "code",
   "execution_count": 16,
   "metadata": {},
   "outputs": [],
   "source": [
    "i = data_2010to2018[(data_2010to2018['Charge Group Description'] == 'Larceny')].index\n",
    "data_2010to2018.drop(i,inplace =True)\n",
    "i = data_2010to2018[(data_2010to2018['Charge Group Description'] == 'Other Assaults')].index\n",
    "data_2010to2018.drop(i,inplace =True)\n",
    "i = data_2010to2018[(data_2010to2018['Charge Group Description'] == 'Receive Stolen Property')].index\n",
    "data_2010to2018.drop(i,inplace =True)\n",
    "i = data_2010to2018[(data_2010to2018['Charge Group Description'] == 'Driving Under Influence')].index\n",
    "data_2010to2018.drop(i,inplace =True)\n",
    "i = data_2010to2018[(data_2010to2018['Charge Group Description'] == 'Prostitution/Allied')].index\n",
    "data_2010to2018.drop(i,inplace =True)\n",
    "i = data_2010to2018[(data_2010to2018['Charge Group Description'] == 'Moving Traffic Violations')].index\n",
    "data_2010to2018.drop(i,inplace =True)\n",
    "i = data_2010to2018[(data_2010to2018['Charge Group Description'] == 'Liquor Laws')].index\n",
    "data_2010to2018.drop(i,inplace =True)\n",
    "i = data_2010to2018[(data_2010to2018['Charge Group Description'] == 'Drunkeness')].index\n",
    "data_2010to2018.drop(i,inplace =True)\n",
    "i = data_2010to2018[(data_2010to2018['Charge Group Description'] == 'Disturbing the Peace')].index\n",
    "data_2010to2018.drop(i,inplace =True)\n",
    "i = data_2010to2018[(data_2010to2018['Charge Group Description'] == 'Gambling')].index\n",
    "data_2010to2018.drop(i,inplace =True)\n",
    "i = data_2010to2018[(data_2010to2018['Charge Group Description'] == 'Non-Criminal Detention')].index\n",
    "data_2010to2018.drop(i,inplace =True)\n",
    "i = data_2010to2018[(data_2010to2018['Charge Group Description'] == 'Pre-Delinquency')].index\n",
    "data_2010to2018.drop(i,inplace =True)"
   ]
  },
  {
   "cell_type": "code",
   "execution_count": 17,
   "metadata": {},
   "outputs": [
    {
     "data": {
      "text/plain": [
       "array(['Burglary', 'Robbery', 'Fraud/Embezzlement', 'Homicide',\n",
       "       'Narcotic Drug Laws', 'Weapon (carry/poss)', 'Aggravated Assault',\n",
       "       'Miscellaneous Other Violations', 'Vehicle Theft',\n",
       "       'Against Family/Child', 'Forgery/Counterfeit',\n",
       "       'Sex (except rape/prst)', 'Rape', 'Disorderly Conduct',\n",
       "       'Federal Offenses'], dtype=object)"
      ]
     },
     "execution_count": 17,
     "metadata": {},
     "output_type": "execute_result"
    }
   ],
   "source": [
    "data_2010to2018['Charge Group Description'].unique()"
   ]
  },
  {
   "cell_type": "code",
   "execution_count": 18,
   "metadata": {},
   "outputs": [
    {
     "data": {
      "text/html": [
       "<div>\n",
       "<style scoped>\n",
       "    .dataframe tbody tr th:only-of-type {\n",
       "        vertical-align: middle;\n",
       "    }\n",
       "\n",
       "    .dataframe tbody tr th {\n",
       "        vertical-align: top;\n",
       "    }\n",
       "\n",
       "    .dataframe thead th {\n",
       "        text-align: right;\n",
       "    }\n",
       "</style>\n",
       "<table border=\"1\" class=\"dataframe\">\n",
       "  <thead>\n",
       "    <tr style=\"text-align: right;\">\n",
       "      <th></th>\n",
       "      <th>year</th>\n",
       "      <th>Charge Group Description</th>\n",
       "    </tr>\n",
       "  </thead>\n",
       "  <tbody>\n",
       "    <tr>\n",
       "      <th>0</th>\n",
       "      <td>2015</td>\n",
       "      <td>Burglary</td>\n",
       "    </tr>\n",
       "    <tr>\n",
       "      <th>6</th>\n",
       "      <td>2015</td>\n",
       "      <td>Burglary</td>\n",
       "    </tr>\n",
       "    <tr>\n",
       "      <th>7</th>\n",
       "      <td>2015</td>\n",
       "      <td>Robbery</td>\n",
       "    </tr>\n",
       "    <tr>\n",
       "      <th>12</th>\n",
       "      <td>2015</td>\n",
       "      <td>Robbery</td>\n",
       "    </tr>\n",
       "    <tr>\n",
       "      <th>160</th>\n",
       "      <td>2016</td>\n",
       "      <td>Fraud/Embezzlement</td>\n",
       "    </tr>\n",
       "    <tr>\n",
       "      <th>...</th>\n",
       "      <td>...</td>\n",
       "      <td>...</td>\n",
       "    </tr>\n",
       "    <tr>\n",
       "      <th>1227510</th>\n",
       "      <td>2018</td>\n",
       "      <td>Aggravated Assault</td>\n",
       "    </tr>\n",
       "    <tr>\n",
       "      <th>1227511</th>\n",
       "      <td>2018</td>\n",
       "      <td>Vehicle Theft</td>\n",
       "    </tr>\n",
       "    <tr>\n",
       "      <th>1227512</th>\n",
       "      <td>2018</td>\n",
       "      <td>Miscellaneous Other Violations</td>\n",
       "    </tr>\n",
       "    <tr>\n",
       "      <th>1227513</th>\n",
       "      <td>2018</td>\n",
       "      <td>Weapon (carry/poss)</td>\n",
       "    </tr>\n",
       "    <tr>\n",
       "      <th>1227514</th>\n",
       "      <td>2018</td>\n",
       "      <td>Weapon (carry/poss)</td>\n",
       "    </tr>\n",
       "  </tbody>\n",
       "</table>\n",
       "<p>596801 rows × 2 columns</p>\n",
       "</div>"
      ],
      "text/plain": [
       "         year        Charge Group Description\n",
       "0        2015                        Burglary\n",
       "6        2015                        Burglary\n",
       "7        2015                         Robbery\n",
       "12       2015                         Robbery\n",
       "160      2016              Fraud/Embezzlement\n",
       "...       ...                             ...\n",
       "1227510  2018              Aggravated Assault\n",
       "1227511  2018                   Vehicle Theft\n",
       "1227512  2018  Miscellaneous Other Violations\n",
       "1227513  2018             Weapon (carry/poss)\n",
       "1227514  2018             Weapon (carry/poss)\n",
       "\n",
       "[596801 rows x 2 columns]"
      ]
     },
     "execution_count": 18,
     "metadata": {},
     "output_type": "execute_result"
    }
   ],
   "source": [
    "felony_dataset=data_2010to2018.copy()\n",
    "felony_dataset=felony_dataset[['year','Charge Group Description']]\n",
    "felony_dataset"
   ]
  },
  {
   "cell_type": "code",
   "execution_count": 19,
   "metadata": {},
   "outputs": [],
   "source": [
    "lb= LabelEncoder()"
   ]
  },
  {
   "cell_type": "code",
   "execution_count": 20,
   "metadata": {},
   "outputs": [],
   "source": [
    "felony_dataset['Charge Group Description'] = lb.fit_transform(felony_dataset['Charge Group Description'])"
   ]
  },
  {
   "cell_type": "code",
   "execution_count": 21,
   "metadata": {},
   "outputs": [
    {
     "data": {
      "text/html": [
       "<div>\n",
       "<style scoped>\n",
       "    .dataframe tbody tr th:only-of-type {\n",
       "        vertical-align: middle;\n",
       "    }\n",
       "\n",
       "    .dataframe tbody tr th {\n",
       "        vertical-align: top;\n",
       "    }\n",
       "\n",
       "    .dataframe thead th {\n",
       "        text-align: right;\n",
       "    }\n",
       "</style>\n",
       "<table border=\"1\" class=\"dataframe\">\n",
       "  <thead>\n",
       "    <tr style=\"text-align: right;\">\n",
       "      <th></th>\n",
       "      <th>year</th>\n",
       "      <th>Charge Group Description</th>\n",
       "    </tr>\n",
       "  </thead>\n",
       "  <tbody>\n",
       "    <tr>\n",
       "      <th>8</th>\n",
       "      <td>2018</td>\n",
       "      <td>118117</td>\n",
       "    </tr>\n",
       "    <tr>\n",
       "      <th>7</th>\n",
       "      <td>2017</td>\n",
       "      <td>424309</td>\n",
       "    </tr>\n",
       "    <tr>\n",
       "      <th>6</th>\n",
       "      <td>2016</td>\n",
       "      <td>438237</td>\n",
       "    </tr>\n",
       "    <tr>\n",
       "      <th>5</th>\n",
       "      <td>2015</td>\n",
       "      <td>452215</td>\n",
       "    </tr>\n",
       "    <tr>\n",
       "      <th>4</th>\n",
       "      <td>2014</td>\n",
       "      <td>515645</td>\n",
       "    </tr>\n",
       "    <tr>\n",
       "      <th>3</th>\n",
       "      <td>2013</td>\n",
       "      <td>575965</td>\n",
       "    </tr>\n",
       "    <tr>\n",
       "      <th>2</th>\n",
       "      <td>2012</td>\n",
       "      <td>604878</td>\n",
       "    </tr>\n",
       "    <tr>\n",
       "      <th>1</th>\n",
       "      <td>2011</td>\n",
       "      <td>633715</td>\n",
       "    </tr>\n",
       "    <tr>\n",
       "      <th>0</th>\n",
       "      <td>2010</td>\n",
       "      <td>648551</td>\n",
       "    </tr>\n",
       "  </tbody>\n",
       "</table>\n",
       "</div>"
      ],
      "text/plain": [
       "   year  Charge Group Description\n",
       "8  2018                    118117\n",
       "7  2017                    424309\n",
       "6  2016                    438237\n",
       "5  2015                    452215\n",
       "4  2014                    515645\n",
       "3  2013                    575965\n",
       "2  2012                    604878\n",
       "1  2011                    633715\n",
       "0  2010                    648551"
      ]
     },
     "execution_count": 21,
     "metadata": {},
     "output_type": "execute_result"
    }
   ],
   "source": [
    "gkk= felony_dataset.groupby('year')['Charge Group Description'].sum().reset_index().sort_values('year',ascending=False)\n",
    "gkk"
   ]
  },
  {
   "cell_type": "code",
   "execution_count": 22,
   "metadata": {},
   "outputs": [
    {
     "data": {
      "text/plain": [
       "<matplotlib.axes._subplots.AxesSubplot at 0x2839f6aed08>"
      ]
     },
     "execution_count": 22,
     "metadata": {},
     "output_type": "execute_result"
    },
    {
     "data": {
      "image/png": "[encoded data removed]",
      "text/plain": [
       "<Figure size 432x288 with 1 Axes>"
      ]
     },
     "metadata": {
      "needs_background": "light"
     },
     "output_type": "display_data"
    }
   ],
   "source": [
    "gkk.plot(x = \"year\", y = \"Charge Group Description\")"
   ]
  },
  {
   "cell_type": "code",
   "execution_count": 23,
   "metadata": {},
   "outputs": [],
   "source": [
    "import numpy as np"
   ]
  },
  {
   "cell_type": "markdown",
   "metadata": {},
   "source": [
    "#### GradientBoostingRegressor"
   ]
  },
  {
   "cell_type": "code",
   "execution_count": 24,
   "metadata": {},
   "outputs": [
    {
     "data": {
      "text/plain": [
       "GradientBoostingRegressor(learning_rate=1, n_estimators=10)"
      ]
     },
     "execution_count": 24,
     "metadata": {},
     "output_type": "execute_result"
    }
   ],
   "source": [
    "from sklearn.ensemble import GradientBoostingRegressor\n",
    "model = GradientBoostingRegressor(n_estimators=10,learning_rate=1)\n",
    "model.fit(gkk[['year']],gkk['Charge Group Description'])"
   ]
  },
  {
   "cell_type": "code",
   "execution_count": 25,
   "metadata": {},
   "outputs": [
    {
     "data": {
      "text/plain": [
       "1.0"
      ]
     },
     "execution_count": 25,
     "metadata": {},
     "output_type": "execute_result"
    }
   ],
   "source": [
    "model.score(gkk[['year']],gkk['Charge Group Description'])"
   ]
  },
  {
   "cell_type": "markdown",
   "metadata": {},
   "source": [
    "#### The projected number of felony arrests in 2019"
   ]
  },
  {
   "cell_type": "code",
   "execution_count": 26,
   "metadata": {},
   "outputs": [
    {
     "data": {
      "text/plain": [
       "array([118117.])"
      ]
     },
     "execution_count": 26,
     "metadata": {},
     "output_type": "execute_result"
    }
   ],
   "source": [
    "arr= np.array([2019])\n",
    "y_pred= model.predict([arr])\n",
    "y_pred"
   ]
  },
  {
   "cell_type": "markdown",
   "metadata": {},
   "source": [
    "#### LinearRegression"
   ]
  },
  {
   "cell_type": "code",
   "execution_count": 27,
   "metadata": {},
   "outputs": [
    {
     "data": {
      "text/plain": [
       "LinearRegression()"
      ]
     },
     "execution_count": 27,
     "metadata": {},
     "output_type": "execute_result"
    }
   ],
   "source": [
    "lr= LinearRegression()\n",
    "lr.fit(gkk[['year']],gkk['Charge Group Description'])"
   ]
  },
  {
   "cell_type": "code",
   "execution_count": 28,
   "metadata": {},
   "outputs": [
    {
     "data": {
      "text/plain": [
       "0.8019076026604008"
      ]
     },
     "execution_count": 28,
     "metadata": {},
     "output_type": "execute_result"
    }
   ],
   "source": [
    "lr.score(gkk[['year']],gkk['Charge Group Description'])"
   ]
  },
  {
   "cell_type": "code",
   "execution_count": 29,
   "metadata": {},
   "outputs": [
    {
     "data": {
      "text/plain": [
       "array([-53449.76666667])"
      ]
     },
     "execution_count": 29,
     "metadata": {},
     "output_type": "execute_result"
    }
   ],
   "source": [
    "lr.coef_"
   ]
  },
  {
   "cell_type": "code",
   "execution_count": 30,
   "metadata": {},
   "outputs": [
    {
     "data": {
      "text/plain": [
       "108138011.40000002"
      ]
     },
     "execution_count": 30,
     "metadata": {},
     "output_type": "execute_result"
    }
   ],
   "source": [
    "lr.intercept_"
   ]
  },
  {
   "cell_type": "code",
   "execution_count": 31,
   "metadata": {},
   "outputs": [],
   "source": [
    "#equation of line\n",
    "#y=-61389.86x + 124169391.8\n",
    "#y=-61389.86(2019) + 124169391.8\n",
    "#y= 223384.8"
   ]
  },
  {
   "cell_type": "code",
   "execution_count": 32,
   "metadata": {},
   "outputs": [],
   "source": [
    "import numpy as np"
   ]
  },
  {
   "cell_type": "markdown",
   "metadata": {},
   "source": [
    "#### The projected number of felony arrests in 2019"
   ]
  },
  {
   "cell_type": "code",
   "execution_count": 33,
   "metadata": {},
   "outputs": [
    {
     "data": {
      "text/plain": [
       "array([222932.5])"
      ]
     },
     "execution_count": 33,
     "metadata": {},
     "output_type": "execute_result"
    }
   ],
   "source": [
    "arr= np.array([2019])\n",
    "y_pred= lr.predict([arr])\n",
    "y_pred"
   ]
  },
  {
   "cell_type": "markdown",
   "metadata": {},
   "source": [
    "#### Predicitions using Time Series (Learning Purpose(ignore))"
   ]
  },
  {
   "cell_type": "code",
   "execution_count": 34,
   "metadata": {},
   "outputs": [],
   "source": [
    "gkks=gkk.copy()\n",
    "gkks['year']=pd.to_datetime(gkks['year'])\n",
    "gkks.set_index('year',inplace=True)"
   ]
  },
  {
   "cell_type": "code",
   "execution_count": 35,
   "metadata": {},
   "outputs": [
    {
     "data": {
      "text/plain": [
       "array([[118117],\n",
       "       [424309],\n",
       "       [438237],\n",
       "       [452215],\n",
       "       [515645],\n",
       "       [575965],\n",
       "       [604878],\n",
       "       [633715],\n",
       "       [648551]])"
      ]
     },
     "execution_count": 35,
     "metadata": {},
     "output_type": "execute_result"
    }
   ],
   "source": [
    "X = gkks.values\n",
    "X"
   ]
  },
  {
   "cell_type": "code",
   "execution_count": 36,
   "metadata": {},
   "outputs": [
    {
     "data": {
      "text/plain": [
       "<matplotlib.axes._subplots.AxesSubplot at 0x2839fd633c8>"
      ]
     },
     "execution_count": 36,
     "metadata": {},
     "output_type": "execute_result"
    },
    {
     "data": {
      "image/png": "[encoded data removed]",
      "text/plain": [
       "<Figure size 432x288 with 1 Axes>"
      ]
     },
     "metadata": {
      "needs_background": "light"
     },
     "output_type": "display_data"
    }
   ],
   "source": [
    "autocorrelation_plot(X)"
   ]
  },
  {
   "cell_type": "code",
   "execution_count": 37,
   "metadata": {},
   "outputs": [
    {
     "data": {
      "text/plain": [
       "[<matplotlib.lines.Line2D at 0x2839fdce388>]"
      ]
     },
     "execution_count": 37,
     "metadata": {},
     "output_type": "execute_result"
    },
    {
     "data": {
      "image/png": "[encoded data removed]",
      "text/plain": [
       "<Figure size 432x288 with 1 Axes>"
      ]
     },
     "metadata": {
      "needs_background": "light"
     },
     "output_type": "display_data"
    }
   ],
   "source": [
    "from statsmodels.tsa.stattools import acf,pacf\n",
    "autor=acf(X,nlags=3)\n",
    "par=pacf(X,nlags=3,method='ols')\n",
    "pyplot.plot(autor,label='std')"
   ]
  },
  {
   "cell_type": "code",
   "execution_count": 38,
   "metadata": {},
   "outputs": [],
   "source": [
    "import statsmodels.api as sms"
   ]
  },
  {
   "cell_type": "code",
   "execution_count": 39,
   "metadata": {},
   "outputs": [
    {
     "name": "stdout",
     "output_type": "stream",
     "text": [
      "                               SARIMAX Results                                \n",
      "==============================================================================\n",
      "Dep. Variable:                      y   No. Observations:                    9\n",
      "Model:               SARIMAX(1, 0, 0)   Log Likelihood                -118.940\n",
      "Date:                Tue, 06 Oct 2020   AIC                            241.880\n",
      "Time:                        22:19:01   BIC                            242.275\n",
      "Sample:                             0   HQIC                           241.029\n",
      "                                  - 9                                         \n",
      "Covariance Type:                  opg                                         \n",
      "==============================================================================\n",
      "                 coef    std err          z      P>|z|      [0.025      0.975]\n",
      "------------------------------------------------------------------------------\n",
      "ar.L1          0.9738      0.053     18.378      0.000       0.870       1.078\n",
      "sigma2      1.149e+10    1.9e-13   6.04e+22      0.000    1.15e+10    1.15e+10\n",
      "===================================================================================\n",
      "Ljung-Box (L1) (Q):                   0.93   Jarque-Bera (JB):                12.34\n",
      "Prob(Q):                              0.33   Prob(JB):                         0.00\n",
      "Heteroskedasticity (H):               0.05   Skew:                             2.27\n",
      "Prob(H) (two-sided):                  0.04   Kurtosis:                         6.51\n",
      "===================================================================================\n",
      "\n",
      "Warnings:\n",
      "[1] Covariance matrix calculated using the outer product of gradients (complex-step).\n",
      "[2] Covariance matrix is singular or near-singular, with condition number 6.4e+39. Standard errors may be unstable.\n"
     ]
    }
   ],
   "source": [
    "model = sms.tsa.statespace.SARIMAX(X,order=(1,0,0))\n",
    "result = model.fit()\n",
    "print(result.summary())"
   ]
  },
  {
   "cell_type": "code",
   "execution_count": 40,
   "metadata": {},
   "outputs": [
    {
     "name": "stdout",
     "output_type": "stream",
     "text": [
      "[656170.10152794 658666.99245769]\n"
     ]
    }
   ],
   "source": [
    "from statsmodels.tsa.statespace.sarimax import SARIMAX\n",
    "from random import random\n",
    "\n",
    "model = SARIMAX(X, order=(1, 3, 2))\n",
    "model_fit = model.fit(disp=False)\n",
    "# make prediction\n",
    "yhat = model_fit.predict(len(X), len(X)+1)\n",
    "print(yhat)"
   ]
  },
  {
   "cell_type": "code",
   "execution_count": 41,
   "metadata": {},
   "outputs": [
    {
     "name": "stdout",
     "output_type": "stream",
     "text": [
      "656170.1015279358\n"
     ]
    }
   ],
   "source": [
    "output = model_fit.forecast(4)[0]\n",
    "print(output)"
   ]
  },
  {
   "cell_type": "code",
   "execution_count": 42,
   "metadata": {},
   "outputs": [
    {
     "data": {
      "image/png": "[encoded data removed]",
      "text/plain": [
       "<Figure size 432x288 with 1 Axes>"
      ]
     },
     "metadata": {
      "needs_background": "light"
     },
     "output_type": "display_data"
    },
    {
     "data": {
      "image/png": "[encoded data removed]",
      "text/plain": [
       "<Figure size 432x288 with 1 Axes>"
      ]
     },
     "metadata": {
      "needs_background": "light"
     },
     "output_type": "display_data"
    },
    {
     "name": "stdout",
     "output_type": "stream",
     "text": [
      "                   0\n",
      "count       9.000000\n",
      "mean   -14597.082004\n",
      "std    155067.281141\n",
      "min   -400384.929737\n",
      "25%    -12442.864353\n",
      "50%      6845.647210\n",
      "75%     48462.860781\n",
      "max    124039.157104\n"
     ]
    }
   ],
   "source": [
    "residuals = DataFrame(model_fit.resid)\n",
    "residuals.plot()\n",
    "pyplot.show()\n",
    "residuals.plot(kind='kde')\n",
    "pyplot.show()\n",
    "print(residuals.describe())"
   ]
  },
  {
   "cell_type": "markdown",
   "metadata": {},
   "source": [
    "#### Autoregression (AR)"
   ]
  },
  {
   "cell_type": "code",
   "execution_count": 43,
   "metadata": {},
   "outputs": [],
   "source": [
    "from statsmodels.tsa.ar_model import AR\n",
    "from sklearn.metrics import mean_squared_error"
   ]
  },
  {
   "cell_type": "code",
   "execution_count": 44,
   "metadata": {},
   "outputs": [
    {
     "data": {
      "text/html": [
       "<table class=\"simpletable\">\n",
       "<caption>AR Model Results</caption>\n",
       "<tr>\n",
       "  <th>Dep. Variable:</th>         <td>y</td>        <th>  No. Observations:  </th>    <td>9</td>   \n",
       "</tr>\n",
       "<tr>\n",
       "  <th>Model:</th>               <td>AR(7)</td>      <th>  Log Likelihood     </th> <td>40.830</td> \n",
       "</tr>\n",
       "<tr>\n",
       "  <th>Method:</th>              <td>cmle</td>       <th>  S.D. of innovations</th>  <td>0.000</td> \n",
       "</tr>\n",
       "<tr>\n",
       "  <th>Date:</th>          <td>Tue, 06 Oct 2020</td> <th>  AIC                </th> <td>-34.668</td>\n",
       "</tr>\n",
       "<tr>\n",
       "  <th>Time:</th>              <td>22:19:01</td>     <th>  BIC                </th> <td>-40.549</td>\n",
       "</tr>\n",
       "<tr>\n",
       "  <th>Sample:</th>                <td>0</td>        <th>  HQIC               </th> <td>-46.967</td>\n",
       "</tr>\n",
       "<tr>\n",
       "  <th></th>                       <td> </td>        <th>                     </th>    <td> </td>   \n",
       "</tr>\n",
       "</table>\n",
       "<table class=\"simpletable\">\n",
       "<tr>\n",
       "    <td></td>       <th>coef</th>     <th>std err</th>      <th>z</th>      <th>P>|z|</th>  <th>[0.025</th>    <th>0.975]</th>  \n",
       "</tr>\n",
       "<tr>\n",
       "  <th>const</th> <td> 4.513e-07</td> <td>      nan</td> <td>      nan</td> <td>   nan</td> <td>      nan</td> <td>      nan</td>\n",
       "</tr>\n",
       "<tr>\n",
       "  <th>L1.y</th>  <td>    0.2593</td> <td>      nan</td> <td>      nan</td> <td>   nan</td> <td>      nan</td> <td>      nan</td>\n",
       "</tr>\n",
       "<tr>\n",
       "  <th>L2.y</th>  <td>    0.2462</td> <td>      nan</td> <td>      nan</td> <td>   nan</td> <td>      nan</td> <td>      nan</td>\n",
       "</tr>\n",
       "<tr>\n",
       "  <th>L3.y</th>  <td>    0.2040</td> <td>      nan</td> <td>      nan</td> <td>   nan</td> <td>      nan</td> <td>      nan</td>\n",
       "</tr>\n",
       "<tr>\n",
       "  <th>L4.y</th>  <td>    0.1739</td> <td>      nan</td> <td>      nan</td> <td>   nan</td> <td>      nan</td> <td>      nan</td>\n",
       "</tr>\n",
       "<tr>\n",
       "  <th>L5.y</th>  <td>    0.1911</td> <td>      nan</td> <td>      nan</td> <td>   nan</td> <td>      nan</td> <td>      nan</td>\n",
       "</tr>\n",
       "<tr>\n",
       "  <th>L6.y</th>  <td>    0.1849</td> <td>      nan</td> <td>      nan</td> <td>   nan</td> <td>      nan</td> <td>      nan</td>\n",
       "</tr>\n",
       "<tr>\n",
       "  <th>L7.y</th>  <td>   -0.0926</td> <td>      nan</td> <td>      nan</td> <td>   nan</td> <td>      nan</td> <td>      nan</td>\n",
       "</tr>\n",
       "</table>\n",
       "<table class=\"simpletable\">\n",
       "<caption>Roots</caption>\n",
       "<tr>\n",
       "    <td></td>   <th>            Real</th>  <th>         Imaginary</th> <th>         Modulus</th>  <th>        Frequency</th>\n",
       "</tr>\n",
       "<tr>\n",
       "  <th>AR.1</th> <td>           0.9486</td> <td>          -0.0000j</td> <td>           0.9486</td> <td>          -0.0000</td>\n",
       "</tr>\n",
       "<tr>\n",
       "  <th>AR.2</th> <td>          -1.3194</td> <td>          -0.0000j</td> <td>           1.3194</td> <td>          -0.5000</td>\n",
       "</tr>\n",
       "<tr>\n",
       "  <th>AR.3</th> <td>          -0.7749</td> <td>          -1.0492j</td> <td>           1.3043</td> <td>          -0.3512</td>\n",
       "</tr>\n",
       "<tr>\n",
       "  <th>AR.4</th> <td>          -0.7749</td> <td>          +1.0492j</td> <td>           1.3043</td> <td>           0.3512</td>\n",
       "</tr>\n",
       "<tr>\n",
       "  <th>AR.5</th> <td>           0.4570</td> <td>          -1.2167j</td> <td>           1.2997</td> <td>          -0.1928</td>\n",
       "</tr>\n",
       "<tr>\n",
       "  <th>AR.6</th> <td>           0.4570</td> <td>          +1.2167j</td> <td>           1.2997</td> <td>           0.1928</td>\n",
       "</tr>\n",
       "<tr>\n",
       "  <th>AR.7</th> <td>           3.0039</td> <td>          -0.0000j</td> <td>           3.0039</td> <td>          -0.0000</td>\n",
       "</tr>\n",
       "</table>"
      ],
      "text/plain": [
       "<class 'statsmodels.iolib.summary.Summary'>\n",
       "\"\"\"\n",
       "                               AR Model Results                               \n",
       "==============================================================================\n",
       "Dep. Variable:                      y   No. Observations:                    9\n",
       "Model:                          AR(7)   Log Likelihood                  40.830\n",
       "Method:                          cmle   S.D. of innovations              0.000\n",
       "Date:                Tue, 06 Oct 2020   AIC                            -34.668\n",
       "Time:                        22:19:01   BIC                            -40.549\n",
       "Sample:                             0   HQIC                           -46.967\n",
       "                                                                              \n",
       "==============================================================================\n",
       "                 coef    std err          z      P>|z|      [0.025      0.975]\n",
       "------------------------------------------------------------------------------\n",
       "const       4.513e-07        nan        nan        nan         nan         nan\n",
       "L1.y           0.2593        nan        nan        nan         nan         nan\n",
       "L2.y           0.2462        nan        nan        nan         nan         nan\n",
       "L3.y           0.2040        nan        nan        nan         nan         nan\n",
       "L4.y           0.1739        nan        nan        nan         nan         nan\n",
       "L5.y           0.1911        nan        nan        nan         nan         nan\n",
       "L6.y           0.1849        nan        nan        nan         nan         nan\n",
       "L7.y          -0.0926        nan        nan        nan         nan         nan\n",
       "                                    Roots                                    \n",
       "=============================================================================\n",
       "                  Real          Imaginary           Modulus         Frequency\n",
       "-----------------------------------------------------------------------------\n",
       "AR.1            0.9486           -0.0000j            0.9486           -0.0000\n",
       "AR.2           -1.3194           -0.0000j            1.3194           -0.5000\n",
       "AR.3           -0.7749           -1.0492j            1.3043           -0.3512\n",
       "AR.4           -0.7749           +1.0492j            1.3043            0.3512\n",
       "AR.5            0.4570           -1.2167j            1.2997           -0.1928\n",
       "AR.6            0.4570           +1.2167j            1.2997            0.1928\n",
       "AR.7            3.0039           -0.0000j            3.0039           -0.0000\n",
       "-----------------------------------------------------------------------------\n",
       "\"\"\""
      ]
     },
     "execution_count": 44,
     "metadata": {},
     "output_type": "execute_result"
    }
   ],
   "source": [
    "model=AR(X)\n",
    "model_fit=model.fit()\n",
    "model_fit.summary()"
   ]
  },
  {
   "cell_type": "code",
   "execution_count": 45,
   "metadata": {},
   "outputs": [
    {
     "name": "stdout",
     "output_type": "stream",
     "text": [
      "[689302.35315083 736392.47374395]\n"
     ]
    }
   ],
   "source": [
    "yhat = model_fit.predict(len(X), len(X)+1)\n",
    "print(yhat)"
   ]
  },
  {
   "cell_type": "code",
   "execution_count": 46,
   "metadata": {},
   "outputs": [
    {
     "data": {
      "text/plain": [
       "-34.66827237527655"
      ]
     },
     "execution_count": 46,
     "metadata": {},
     "output_type": "execute_result"
    }
   ],
   "source": [
    "model_fit.aic"
   ]
  },
  {
   "cell_type": "markdown",
   "metadata": {},
   "source": [
    "##### Q6.How many arrest incidents occurred within 2 km from the Bradbury Building in 2018? Use (34.050536, -118.247861) for the coordinates of the Bradbury Building . For simplicity, please use the spherical Earth projected to a plane equation for calculating distances. Use the radius of the Earth as 6371 km. Note, some arrest records are missing location data and the location is listed as (0, 0). These records should not factor in your calculation."
   ]
  },
  {
   "cell_type": "code",
   "execution_count": 55,
   "metadata": {},
   "outputs": [],
   "source": [
    "from math import radians,degrees , asin,acos, sin,cos,sqrt,atan2,radians"
   ]
  },
  {
   "cell_type": "code",
   "execution_count": 58,
   "metadata": {},
   "outputs": [],
   "source": [
    "def calculate_distances(coord):\n",
    "    R=6371.0\n",
    "    lat1=radians(34.050536)\n",
    "    lon1=radians(-118.247861)\n",
    "    lat2=radians(coord[0])\n",
    "    lon2=radians(coord[1])\n",
    "    dlon=lon2-lon1\n",
    "    dlat=lat2-lat1\n",
    "\n",
    "    return 6371 * (\n",
    "        acos(sin(lat1) * sin(lat2) + cos(lat1) * cos(lat2) * cos(lon1 - lon2))\n",
    "    )"
   ]
  },
  {
   "cell_type": "code",
   "execution_count": 66,
   "metadata": {},
   "outputs": [
    {
     "data": {
      "text/plain": [
       "(5211,)"
      ]
     },
     "execution_count": 66,
     "metadata": {},
     "output_type": "execute_result"
    }
   ],
   "source": [
    "new_datasets[\"distance_Bradbury\"]=new_datasets[(new_datasets['Location']!=\"(0,0)\")&(pd.notna(new_datasets['Location']))]['Location'].apply(lambda x: calculate_distances([float(y) for y in x[1:-1].split(\",\")]))\n",
    "arrests_within_2km = new_datasets[\"distance_Bradbury\"][new_datasets[\"distance_Bradbury\"] <= 2]\n",
    "arrests_within_2km.shape"
   ]
  },
  {
   "cell_type": "markdown",
   "metadata": {},
   "source": [
    "#### How many arrest incidents were made per kilometer on Pico Boulevard during 2018? For this question, we will need to estimate the length of Pico Boulevard, which mostly stretches from east to west. To estimate the length of Pico Boulevard:u"
   ]
  },
  {
   "cell_type": "code",
   "execution_count": 51,
   "metadata": {},
   "outputs": [],
   "source": [
    "#https://machinelearningmastery.com/time-series-forecasting-methods-in-python-cheat-sheet/"
   ]
  }
 ],
 "metadata": {
  "kernelspec": {
   "display_name": "Python 3",
   "language": "python",
   "name": "python3"
  },
  "language_info": {
   "codemirror_mode": {
    "name": "ipython",
    "version": 3
   },
   "file_extension": ".py",
   "mimetype": "text/x-python",
   "name": "python",
   "nbconvert_exporter": "python",
   "pygments_lexer": "ipython3",
   "version": "3.7.4"
  }
 },
 "nbformat": 4,
 "nbformat_minor": 2
}
